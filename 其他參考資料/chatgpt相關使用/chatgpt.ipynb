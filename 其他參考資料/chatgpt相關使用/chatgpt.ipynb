{
 "cells": [
  {
   "cell_type": "code",
   "execution_count": 45,
   "id": "287cf403",
   "metadata": {},
   "outputs": [],
   "source": [
    "import requests\n",
    "from selenium import webdriver\n",
    "#from webdriver_manager.chrome import ChromeDriverManager  #chrome時\n",
    "from webdriver_manager.microsoft import EdgeChromiumDriverManager #edge時(預設瀏覽器)\n",
    "from selenium.webdriver.edge.service import Service\n",
    "#取得元素\n",
    "#Selenium 4 不提供 find_element_by_XXX 的方法, \n",
    "#只提供取得第一個元素 find_element 或是所有元素的 find_elements 方法, \n",
    "#可以搭配 By 類別指定找尋元素的依據。\n",
    "from selenium.webdriver.common.by import By\n",
    "from selenium.webdriver.support.ui import Select\n",
    "\n",
    "from bs4 import BeautifulSoup\n",
    "import zipfile\n",
    "\n",
    "import time"
   ]
  },
  {
   "cell_type": "code",
   "execution_count": 46,
   "id": "09bbef59",
   "metadata": {},
   "outputs": [],
   "source": [
    "#建立Chrome Webdriver物件，並且發送請求到\"證券交易所的上市公司季報\"(可依照需求)網頁\n",
    "domain_url = 'https://chat.openai.com/auth/login'\n",
    " \n",
    "#browser = webdriver.Chrome(ChromeDriverManager().install()) #chrome時\n",
    "browser = webdriver.Edge(service=Service(EdgeChromiumDriverManager().install()))\n",
    "browser.get(\n",
    "    f'{domain_url}')\n",
    "    #後接的網址是要下載區域的子網址連結ex:https://www.twse.com.tw/zh/statistics/statisticsList?type=05&subType=225"
   ]
  },
  {
   "cell_type": "code",
   "execution_count": 48,
   "id": "e80b0227",
   "metadata": {},
   "outputs": [
    {
     "ename": "NoSuchElementException",
     "evalue": "Message: no such element: Unable to locate element: {\"method\":\"xpath\",\"selector\":\"//*[@id=\"__next\"]/div[1]/div[2]/div[1]/div/button[1]\"}\n  (Session info: MicrosoftEdge=115.0.1901.200); For documentation on this error, please visit: https://www.selenium.dev/documentation/webdriver/troubleshooting/errors#no-such-element-exception\nStacktrace:\nBacktrace:\n\tGetHandleVerifier [0x00007FF6C0395422+69586]\n\tMicrosoft::Applications::Events::EventProperty::~EventProperty [0x00007FF6C0325662+760226]\n\t(No symbol) [0x00007FF6C00DB8CC]\n\t(No symbol) [0x00007FF6C0122C79]\n\t(No symbol) [0x00007FF6C0122D8A]\n\t(No symbol) [0x00007FF6C015F007]\n\t(No symbol) [0x00007FF6C0142DEF]\n\t(No symbol) [0x00007FF6C0116A11]\n\t(No symbol) [0x00007FF6C015C241]\n\t(No symbol) [0x00007FF6C0142B83]\n\t(No symbol) [0x00007FF6C011589E]\n\t(No symbol) [0x00007FF6C0114B6B]\n\t(No symbol) [0x00007FF6C0116024]\n\tMicrosoft::Applications::Events::ILogManager::DispatchEventBroadcast [0x00007FF6C056D229+1294553]\n\t(No symbol) [0x00007FF6C01949F4]\n\tMicrosoft::Applications::Events::EventProperty::~EventProperty [0x00007FF6C0273DF1+33073]\n\tMicrosoft::Applications::Events::EventProperty::~EventProperty [0x00007FF6C026C409+1865]\n\tMicrosoft::Applications::Events::ILogManager::DispatchEventBroadcast [0x00007FF6C056BE01+1289393]\n\tMicrosoft::Applications::Events::ILogConfiguration::operator* [0x00007FF6C032DC68+20184]\n\tMicrosoft::Applications::Events::ILogConfiguration::operator* [0x00007FF6C032A2F4+5476]\n\tMicrosoft::Applications::Events::ILogConfiguration::operator* [0x00007FF6C032A3EC+5724]\n\tMicrosoft::Applications::Events::EventProperty::~EventProperty [0x00007FF6C031ECA1+733153]\n\tBaseThreadInitThunk [0x00007FFF702126AD+29]\n\tRtlUserThreadStart [0x00007FFF707AAA68+40]\n",
     "output_type": "error",
     "traceback": [
      "\u001b[1;31m---------------------------------------------------------------------------\u001b[0m",
      "\u001b[1;31mNoSuchElementException\u001b[0m                    Traceback (most recent call last)",
      "Cell \u001b[1;32mIn[48], line 2\u001b[0m\n\u001b[0;32m      1\u001b[0m \u001b[38;5;66;03m#空格，在實際撰寫程式碼時，空格沒有辦法被正常判斷，解決辦法為將空格的位置全部改成點\u001b[39;00m\n\u001b[1;32m----> 2\u001b[0m log_check \u001b[38;5;241m=\u001b[39m browser\u001b[38;5;241m.\u001b[39mfind_element(By\u001b[38;5;241m.\u001b[39mXPATH, \u001b[38;5;124m'\u001b[39m\u001b[38;5;124m//*[@id=\u001b[39m\u001b[38;5;124m\"\u001b[39m\u001b[38;5;124m__next\u001b[39m\u001b[38;5;124m\"\u001b[39m\u001b[38;5;124m]/div[1]/div[2]/div[1]/div/button[1]\u001b[39m\u001b[38;5;124m'\u001b[39m)\n\u001b[0;32m      3\u001b[0m log_check\u001b[38;5;241m.\u001b[39mclick()\n",
      "File \u001b[1;32m~\\anaconda3\\Lib\\site-packages\\selenium\\webdriver\\remote\\webdriver.py:739\u001b[0m, in \u001b[0;36mWebDriver.find_element\u001b[1;34m(self, by, value)\u001b[0m\n\u001b[0;32m    736\u001b[0m     by \u001b[38;5;241m=\u001b[39m By\u001b[38;5;241m.\u001b[39mCSS_SELECTOR\n\u001b[0;32m    737\u001b[0m     value \u001b[38;5;241m=\u001b[39m \u001b[38;5;124mf\u001b[39m\u001b[38;5;124m'\u001b[39m\u001b[38;5;124m[name=\u001b[39m\u001b[38;5;124m\"\u001b[39m\u001b[38;5;132;01m{\u001b[39;00mvalue\u001b[38;5;132;01m}\u001b[39;00m\u001b[38;5;124m\"\u001b[39m\u001b[38;5;124m]\u001b[39m\u001b[38;5;124m'\u001b[39m\n\u001b[1;32m--> 739\u001b[0m \u001b[38;5;28;01mreturn\u001b[39;00m \u001b[38;5;28mself\u001b[39m\u001b[38;5;241m.\u001b[39mexecute(Command\u001b[38;5;241m.\u001b[39mFIND_ELEMENT, {\u001b[38;5;124m\"\u001b[39m\u001b[38;5;124musing\u001b[39m\u001b[38;5;124m\"\u001b[39m: by, \u001b[38;5;124m\"\u001b[39m\u001b[38;5;124mvalue\u001b[39m\u001b[38;5;124m\"\u001b[39m: value})[\u001b[38;5;124m\"\u001b[39m\u001b[38;5;124mvalue\u001b[39m\u001b[38;5;124m\"\u001b[39m]\n",
      "File \u001b[1;32m~\\anaconda3\\Lib\\site-packages\\selenium\\webdriver\\remote\\webdriver.py:345\u001b[0m, in \u001b[0;36mWebDriver.execute\u001b[1;34m(self, driver_command, params)\u001b[0m\n\u001b[0;32m    343\u001b[0m response \u001b[38;5;241m=\u001b[39m \u001b[38;5;28mself\u001b[39m\u001b[38;5;241m.\u001b[39mcommand_executor\u001b[38;5;241m.\u001b[39mexecute(driver_command, params)\n\u001b[0;32m    344\u001b[0m \u001b[38;5;28;01mif\u001b[39;00m response:\n\u001b[1;32m--> 345\u001b[0m     \u001b[38;5;28mself\u001b[39m\u001b[38;5;241m.\u001b[39merror_handler\u001b[38;5;241m.\u001b[39mcheck_response(response)\n\u001b[0;32m    346\u001b[0m     response[\u001b[38;5;124m\"\u001b[39m\u001b[38;5;124mvalue\u001b[39m\u001b[38;5;124m\"\u001b[39m] \u001b[38;5;241m=\u001b[39m \u001b[38;5;28mself\u001b[39m\u001b[38;5;241m.\u001b[39m_unwrap_value(response\u001b[38;5;241m.\u001b[39mget(\u001b[38;5;124m\"\u001b[39m\u001b[38;5;124mvalue\u001b[39m\u001b[38;5;124m\"\u001b[39m, \u001b[38;5;28;01mNone\u001b[39;00m))\n\u001b[0;32m    347\u001b[0m     \u001b[38;5;28;01mreturn\u001b[39;00m response\n",
      "File \u001b[1;32m~\\anaconda3\\Lib\\site-packages\\selenium\\webdriver\\remote\\errorhandler.py:229\u001b[0m, in \u001b[0;36mErrorHandler.check_response\u001b[1;34m(self, response)\u001b[0m\n\u001b[0;32m    227\u001b[0m         alert_text \u001b[38;5;241m=\u001b[39m value[\u001b[38;5;124m\"\u001b[39m\u001b[38;5;124malert\u001b[39m\u001b[38;5;124m\"\u001b[39m]\u001b[38;5;241m.\u001b[39mget(\u001b[38;5;124m\"\u001b[39m\u001b[38;5;124mtext\u001b[39m\u001b[38;5;124m\"\u001b[39m)\n\u001b[0;32m    228\u001b[0m     \u001b[38;5;28;01mraise\u001b[39;00m exception_class(message, screen, stacktrace, alert_text)  \u001b[38;5;66;03m# type: ignore[call-arg]  # mypy is not smart enough here\u001b[39;00m\n\u001b[1;32m--> 229\u001b[0m \u001b[38;5;28;01mraise\u001b[39;00m exception_class(message, screen, stacktrace)\n",
      "\u001b[1;31mNoSuchElementException\u001b[0m: Message: no such element: Unable to locate element: {\"method\":\"xpath\",\"selector\":\"//*[@id=\"__next\"]/div[1]/div[2]/div[1]/div/button[1]\"}\n  (Session info: MicrosoftEdge=115.0.1901.200); For documentation on this error, please visit: https://www.selenium.dev/documentation/webdriver/troubleshooting/errors#no-such-element-exception\nStacktrace:\nBacktrace:\n\tGetHandleVerifier [0x00007FF6C0395422+69586]\n\tMicrosoft::Applications::Events::EventProperty::~EventProperty [0x00007FF6C0325662+760226]\n\t(No symbol) [0x00007FF6C00DB8CC]\n\t(No symbol) [0x00007FF6C0122C79]\n\t(No symbol) [0x00007FF6C0122D8A]\n\t(No symbol) [0x00007FF6C015F007]\n\t(No symbol) [0x00007FF6C0142DEF]\n\t(No symbol) [0x00007FF6C0116A11]\n\t(No symbol) [0x00007FF6C015C241]\n\t(No symbol) [0x00007FF6C0142B83]\n\t(No symbol) [0x00007FF6C011589E]\n\t(No symbol) [0x00007FF6C0114B6B]\n\t(No symbol) [0x00007FF6C0116024]\n\tMicrosoft::Applications::Events::ILogManager::DispatchEventBroadcast [0x00007FF6C056D229+1294553]\n\t(No symbol) [0x00007FF6C01949F4]\n\tMicrosoft::Applications::Events::EventProperty::~EventProperty [0x00007FF6C0273DF1+33073]\n\tMicrosoft::Applications::Events::EventProperty::~EventProperty [0x00007FF6C026C409+1865]\n\tMicrosoft::Applications::Events::ILogManager::DispatchEventBroadcast [0x00007FF6C056BE01+1289393]\n\tMicrosoft::Applications::Events::ILogConfiguration::operator* [0x00007FF6C032DC68+20184]\n\tMicrosoft::Applications::Events::ILogConfiguration::operator* [0x00007FF6C032A2F4+5476]\n\tMicrosoft::Applications::Events::ILogConfiguration::operator* [0x00007FF6C032A3EC+5724]\n\tMicrosoft::Applications::Events::EventProperty::~EventProperty [0x00007FF6C031ECA1+733153]\n\tBaseThreadInitThunk [0x00007FFF702126AD+29]\n\tRtlUserThreadStart [0x00007FFF707AAA68+40]\n"
     ]
    }
   ],
   "source": [
    "#空格，在實際撰寫程式碼時，空格沒有辦法被正常判斷，解決辦法為將空格的位置全部改成點\n",
    "log_check = browser.find_element(By.XPATH, '//*[@id=\"__next\"]/div[1]/div[2]/div[1]/div/button[1]')\n",
    "log_check.click()"
   ]
  },
  {
   "cell_type": "code",
   "execution_count": 40,
   "id": "d9f0bafd",
   "metadata": {},
   "outputs": [],
   "source": [
    "time.sleep(2)\n",
    "log = browser.find_element(By.XPATH, '/html/body/div/main/section/div/div/div/div[4]/form[2]/button/span[2]')\n",
    "log.click()"
   ]
  },
  {
   "cell_type": "code",
   "execution_count": 44,
   "id": "0f21477e",
   "metadata": {},
   "outputs": [
    {
     "ename": "ElementNotInteractableException",
     "evalue": "Message: element not interactable\n  (Session info: MicrosoftEdge=115.0.1901.200)\nStacktrace:\nBacktrace:\n\tGetHandleVerifier [0x00007FF6C0395422+69586]\n\tMicrosoft::Applications::Events::EventProperty::~EventProperty [0x00007FF6C0325662+760226]\n\t(No symbol) [0x00007FF6C00DB6FE]\n\t(No symbol) [0x00007FF6C0123FCB]\n\t(No symbol) [0x00007FF6C0116F86]\n\t(No symbol) [0x00007FF6C0142DAA]\n\t(No symbol) [0x00007FF6C0116A11]\n\t(No symbol) [0x00007FF6C01168BD]\n\t(No symbol) [0x00007FF6C01430E0]\n\t(No symbol) [0x00007FF6C0116A11]\n\t(No symbol) [0x00007FF6C015C241]\n\t(No symbol) [0x00007FF6C0142B83]\n\t(No symbol) [0x00007FF6C011589E]\n\t(No symbol) [0x00007FF6C0114B6B]\n\t(No symbol) [0x00007FF6C0116024]\n\tMicrosoft::Applications::Events::ILogManager::DispatchEventBroadcast [0x00007FF6C056D229+1294553]\n\t(No symbol) [0x00007FF6C01949F4]\n\tMicrosoft::Applications::Events::EventProperty::~EventProperty [0x00007FF6C0273DF1+33073]\n\tMicrosoft::Applications::Events::EventProperty::~EventProperty [0x00007FF6C026C409+1865]\n\tMicrosoft::Applications::Events::ILogManager::DispatchEventBroadcast [0x00007FF6C056BE01+1289393]\n\tMicrosoft::Applications::Events::ILogConfiguration::operator* [0x00007FF6C032DC68+20184]\n\tMicrosoft::Applications::Events::ILogConfiguration::operator* [0x00007FF6C032A2F4+5476]\n\tMicrosoft::Applications::Events::ILogConfiguration::operator* [0x00007FF6C032A3EC+5724]\n\tMicrosoft::Applications::Events::EventProperty::~EventProperty [0x00007FF6C031ECA1+733153]\n\tBaseThreadInitThunk [0x00007FFF702126AD+29]\n\tRtlUserThreadStart [0x00007FFF707AAA68+40]\n",
     "output_type": "error",
     "traceback": [
      "\u001b[1;31m---------------------------------------------------------------------------\u001b[0m",
      "\u001b[1;31mElementNotInteractableException\u001b[0m           Traceback (most recent call last)",
      "Cell \u001b[1;32mIn[44], line 6\u001b[0m\n\u001b[0;32m      4\u001b[0m account\u001b[38;5;241m.\u001b[39msubmit()\n\u001b[0;32m      5\u001b[0m submit_a \u001b[38;5;241m=\u001b[39m browser\u001b[38;5;241m.\u001b[39mfind_element(By\u001b[38;5;241m.\u001b[39mCLASS_NAME, \u001b[38;5;124m'\u001b[39m\u001b[38;5;124mVfPpkd-RLmnJb\u001b[39m\u001b[38;5;124m'\u001b[39m)\n\u001b[1;32m----> 6\u001b[0m submit_a\u001b[38;5;241m.\u001b[39mclick()\n",
      "File \u001b[1;32m~\\anaconda3\\Lib\\site-packages\\selenium\\webdriver\\remote\\webelement.py:94\u001b[0m, in \u001b[0;36mWebElement.click\u001b[1;34m(self)\u001b[0m\n\u001b[0;32m     92\u001b[0m \u001b[38;5;28;01mdef\u001b[39;00m \u001b[38;5;21mclick\u001b[39m(\u001b[38;5;28mself\u001b[39m) \u001b[38;5;241m-\u001b[39m\u001b[38;5;241m>\u001b[39m \u001b[38;5;28;01mNone\u001b[39;00m:\n\u001b[0;32m     93\u001b[0m \u001b[38;5;250m    \u001b[39m\u001b[38;5;124;03m\"\"\"Clicks the element.\"\"\"\u001b[39;00m\n\u001b[1;32m---> 94\u001b[0m     \u001b[38;5;28mself\u001b[39m\u001b[38;5;241m.\u001b[39m_execute(Command\u001b[38;5;241m.\u001b[39mCLICK_ELEMENT)\n",
      "File \u001b[1;32m~\\anaconda3\\Lib\\site-packages\\selenium\\webdriver\\remote\\webelement.py:395\u001b[0m, in \u001b[0;36mWebElement._execute\u001b[1;34m(self, command, params)\u001b[0m\n\u001b[0;32m    393\u001b[0m     params \u001b[38;5;241m=\u001b[39m {}\n\u001b[0;32m    394\u001b[0m params[\u001b[38;5;124m\"\u001b[39m\u001b[38;5;124mid\u001b[39m\u001b[38;5;124m\"\u001b[39m] \u001b[38;5;241m=\u001b[39m \u001b[38;5;28mself\u001b[39m\u001b[38;5;241m.\u001b[39m_id\n\u001b[1;32m--> 395\u001b[0m \u001b[38;5;28;01mreturn\u001b[39;00m \u001b[38;5;28mself\u001b[39m\u001b[38;5;241m.\u001b[39m_parent\u001b[38;5;241m.\u001b[39mexecute(command, params)\n",
      "File \u001b[1;32m~\\anaconda3\\Lib\\site-packages\\selenium\\webdriver\\remote\\webdriver.py:345\u001b[0m, in \u001b[0;36mWebDriver.execute\u001b[1;34m(self, driver_command, params)\u001b[0m\n\u001b[0;32m    343\u001b[0m response \u001b[38;5;241m=\u001b[39m \u001b[38;5;28mself\u001b[39m\u001b[38;5;241m.\u001b[39mcommand_executor\u001b[38;5;241m.\u001b[39mexecute(driver_command, params)\n\u001b[0;32m    344\u001b[0m \u001b[38;5;28;01mif\u001b[39;00m response:\n\u001b[1;32m--> 345\u001b[0m     \u001b[38;5;28mself\u001b[39m\u001b[38;5;241m.\u001b[39merror_handler\u001b[38;5;241m.\u001b[39mcheck_response(response)\n\u001b[0;32m    346\u001b[0m     response[\u001b[38;5;124m\"\u001b[39m\u001b[38;5;124mvalue\u001b[39m\u001b[38;5;124m\"\u001b[39m] \u001b[38;5;241m=\u001b[39m \u001b[38;5;28mself\u001b[39m\u001b[38;5;241m.\u001b[39m_unwrap_value(response\u001b[38;5;241m.\u001b[39mget(\u001b[38;5;124m\"\u001b[39m\u001b[38;5;124mvalue\u001b[39m\u001b[38;5;124m\"\u001b[39m, \u001b[38;5;28;01mNone\u001b[39;00m))\n\u001b[0;32m    347\u001b[0m     \u001b[38;5;28;01mreturn\u001b[39;00m response\n",
      "File \u001b[1;32m~\\anaconda3\\Lib\\site-packages\\selenium\\webdriver\\remote\\errorhandler.py:229\u001b[0m, in \u001b[0;36mErrorHandler.check_response\u001b[1;34m(self, response)\u001b[0m\n\u001b[0;32m    227\u001b[0m         alert_text \u001b[38;5;241m=\u001b[39m value[\u001b[38;5;124m\"\u001b[39m\u001b[38;5;124malert\u001b[39m\u001b[38;5;124m\"\u001b[39m]\u001b[38;5;241m.\u001b[39mget(\u001b[38;5;124m\"\u001b[39m\u001b[38;5;124mtext\u001b[39m\u001b[38;5;124m\"\u001b[39m)\n\u001b[0;32m    228\u001b[0m     \u001b[38;5;28;01mraise\u001b[39;00m exception_class(message, screen, stacktrace, alert_text)  \u001b[38;5;66;03m# type: ignore[call-arg]  # mypy is not smart enough here\u001b[39;00m\n\u001b[1;32m--> 229\u001b[0m \u001b[38;5;28;01mraise\u001b[39;00m exception_class(message, screen, stacktrace)\n",
      "\u001b[1;31mElementNotInteractableException\u001b[0m: Message: element not interactable\n  (Session info: MicrosoftEdge=115.0.1901.200)\nStacktrace:\nBacktrace:\n\tGetHandleVerifier [0x00007FF6C0395422+69586]\n\tMicrosoft::Applications::Events::EventProperty::~EventProperty [0x00007FF6C0325662+760226]\n\t(No symbol) [0x00007FF6C00DB6FE]\n\t(No symbol) [0x00007FF6C0123FCB]\n\t(No symbol) [0x00007FF6C0116F86]\n\t(No symbol) [0x00007FF6C0142DAA]\n\t(No symbol) [0x00007FF6C0116A11]\n\t(No symbol) [0x00007FF6C01168BD]\n\t(No symbol) [0x00007FF6C01430E0]\n\t(No symbol) [0x00007FF6C0116A11]\n\t(No symbol) [0x00007FF6C015C241]\n\t(No symbol) [0x00007FF6C0142B83]\n\t(No symbol) [0x00007FF6C011589E]\n\t(No symbol) [0x00007FF6C0114B6B]\n\t(No symbol) [0x00007FF6C0116024]\n\tMicrosoft::Applications::Events::ILogManager::DispatchEventBroadcast [0x00007FF6C056D229+1294553]\n\t(No symbol) [0x00007FF6C01949F4]\n\tMicrosoft::Applications::Events::EventProperty::~EventProperty [0x00007FF6C0273DF1+33073]\n\tMicrosoft::Applications::Events::EventProperty::~EventProperty [0x00007FF6C026C409+1865]\n\tMicrosoft::Applications::Events::ILogManager::DispatchEventBroadcast [0x00007FF6C056BE01+1289393]\n\tMicrosoft::Applications::Events::ILogConfiguration::operator* [0x00007FF6C032DC68+20184]\n\tMicrosoft::Applications::Events::ILogConfiguration::operator* [0x00007FF6C032A2F4+5476]\n\tMicrosoft::Applications::Events::ILogConfiguration::operator* [0x00007FF6C032A3EC+5724]\n\tMicrosoft::Applications::Events::EventProperty::~EventProperty [0x00007FF6C031ECA1+733153]\n\tBaseThreadInitThunk [0x00007FFF702126AD+29]\n\tRtlUserThreadStart [0x00007FFF707AAA68+40]\n"
     ]
    }
   ],
   "source": [
    "time.sleep(2)\n",
    "account = browser.find_element(By.CLASS_NAME, 'whsOnd.zHQkBf')  # 定位輸入框\n",
    "account.send_keys(\"a1105505@mail.nuk.edu.tw\")\n",
    "account.submit()\n",
    "submit_a = browser.find_element(By.CLASS_NAME, 'VfPpkd-RLmnJb')\n",
    "submit_a.click()"
   ]
  },
  {
   "cell_type": "code",
   "execution_count": 7,
   "id": "84bacc66",
   "metadata": {},
   "outputs": [],
   "source": [
    "#要點擊查詢按鈕才會出現檔案資料表格\n",
    "#所以就需要定位查詢按鈕元素\n",
    "#可以在查詢按鈕的地方點擊滑鼠右鍵，選擇「檢查」來檢視原始碼\n",
    "\n",
    "ask = browser.find_element(By.ID, 'prompt-textarea')  # 定位輸入框\n",
    "ask.send_keys(\"可以問您今天是幾月幾號嗎?\")\n",
    "ask.submit()"
   ]
  },
  {
   "cell_type": "code",
   "execution_count": 8,
   "id": "1c4167c1",
   "metadata": {},
   "outputs": [],
   "source": [
    "time.sleep(5)\n",
    "#將抓下來的資料用Beautifulsoup4轉為HTML的parser\n",
    "soup = BeautifulSoup(browser.text,\"html.parser\") #將網頁資料以html.parser\n",
    "sel = soup.select(\"p\") #***取HTML標中的 <div class=\"title\"></div> 中的<a>標籤存入sel\n",
    "#資料都會在下載區\n",
    "#browser.close()"
   ]
  },
  {
   "cell_type": "code",
   "execution_count": null,
   "id": "947df15f",
   "metadata": {},
   "outputs": [],
   "source": [
    "#最後寫一個迴圈將爬下來的文章標題印出來\n",
    "for s in sel:\n",
    "    print(s.text)\n",
    "    \n",
    "browser.close()"
   ]
  }
 ],
 "metadata": {
  "kernelspec": {
   "display_name": "Python 3 (ipykernel)",
   "language": "python",
   "name": "python3"
  },
  "language_info": {
   "codemirror_mode": {
    "name": "ipython",
    "version": 3
   },
   "file_extension": ".py",
   "mimetype": "text/x-python",
   "name": "python",
   "nbconvert_exporter": "python",
   "pygments_lexer": "ipython3",
   "version": "3.11.4"
  }
 },
 "nbformat": 4,
 "nbformat_minor": 5
}
