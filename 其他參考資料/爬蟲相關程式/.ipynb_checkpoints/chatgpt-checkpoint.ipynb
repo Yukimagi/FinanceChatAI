{
 "cells": [
  {
   "cell_type": "code",
   "execution_count": 5,
   "id": "287cf403",
   "metadata": {},
   "outputs": [],
   "source": [
    "import requests\n",
    "from selenium import webdriver\n",
    "#from webdriver_manager.chrome import ChromeDriverManager  #chrome時\n",
    "from webdriver_manager.microsoft import EdgeChromiumDriverManager #edge時(預設瀏覽器)\n",
    "from selenium.webdriver.edge.service import Service\n",
    "#取得元素\n",
    "#Selenium 4 不提供 find_element_by_XXX 的方法, \n",
    "#只提供取得第一個元素 find_element 或是所有元素的 find_elements 方法, \n",
    "#可以搭配 By 類別指定找尋元素的依據。\n",
    "from selenium.webdriver.common.by import By\n",
    "from selenium.webdriver.support.ui import Select\n",
    "\n",
    "from bs4 import BeautifulSoup\n",
    "import zipfile\n",
    "\n",
    "import time"
   ]
  },
  {
   "cell_type": "code",
   "execution_count": 6,
   "id": "09bbef59",
   "metadata": {},
   "outputs": [],
   "source": [
    "#建立Chrome Webdriver物件，並且發送請求到\"證券交易所的上市公司季報\"(可依照需求)網頁\n",
    "domain_url = 'https://www.twse.com.tw/zh'\n",
    " \n",
    "#browser = webdriver.Chrome(ChromeDriverManager().install()) #chrome時\n",
    "browser = webdriver.Edge(service=Service(EdgeChromiumDriverManager().install()))\n",
    "browser.get(\n",
    "    f'{domain_url}/trading/historical/bwibbu.html')\n",
    "    #後接的網址是要下載區域的子網址連結ex:https://www.twse.com.tw/zh/statistics/statisticsList?type=05&subType=225"
   ]
  },
  {
   "cell_type": "code",
   "execution_count": 7,
   "id": "84bacc66",
   "metadata": {},
   "outputs": [],
   "source": [
    "#要點擊查詢按鈕才會出現檔案資料表格\n",
    "#所以就需要定位查詢按鈕元素\n",
    "#可以在查詢按鈕的地方點擊滑鼠右鍵，選擇「檢查」來檢視原始碼\n",
    "select = Select(browser.find_element(By.CSS_SELECTOR, 'select#label0'))\n",
    "select.select_by_value(\"2022\")\n",
    "\n",
    "select2 = Select(browser.find_element(By.NAME, 'mm'))\n",
    "select2.select_by_value(\"1\")\n",
    "\n",
    "stockno = browser.find_element(By.NAME, 'stockNo')  # 定位股票代碼輸入框\n",
    "stockno.send_keys(\"2330\")\n",
    "stockno.submit()"
   ]
  },
  {
   "cell_type": "code",
   "execution_count": 8,
   "id": "1c4167c1",
   "metadata": {},
   "outputs": [],
   "source": [
    "time.sleep(2)\n",
    "button = browser.find_element(By.CLASS_NAME,'rwd-tools')\n",
    "buttons = button.find_element(By.CLASS_NAME,'csv')\n",
    "buttons.click()\n",
    "#資料都會在下載區\n",
    "browser.close()"
   ]
  },
  {
   "cell_type": "code",
   "execution_count": null,
   "id": "947df15f",
   "metadata": {},
   "outputs": [],
   "source": []
  }
 ],
 "metadata": {
  "kernelspec": {
   "display_name": "Python 3 (ipykernel)",
   "language": "python",
   "name": "python3"
  },
  "language_info": {
   "codemirror_mode": {
    "name": "ipython",
    "version": 3
   },
   "file_extension": ".py",
   "mimetype": "text/x-python",
   "name": "python",
   "nbconvert_exporter": "python",
   "pygments_lexer": "ipython3",
   "version": "3.11.4"
  }
 },
 "nbformat": 4,
 "nbformat_minor": 5
}
