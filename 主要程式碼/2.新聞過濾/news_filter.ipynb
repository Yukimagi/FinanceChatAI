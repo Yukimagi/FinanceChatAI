{
 "cells": [
  {
   "cell_type": "code",
   "execution_count": 6,
   "id": "7bf9d4e7",
   "metadata": {},
   "outputs": [
    {
     "name": "stdout",
     "output_type": "stream",
     "text": [
      "no output 1795_4.csv\n",
      "no output 1795_6.csv\n"
     ]
    }
   ],
   "source": [
    "import csv\n",
    "\n",
    "csv_file_path = [\"news_1.csv\",\"news_2.csv\",\"news_3.csv\",\"news_4.csv\",\"news_5.csv\",\n",
    "                \"news_6.csv\",\"news_7.csv\",\"news_8.csv\",\"news_9.csv\",\"news_10.csv\",\n",
    "                \"news_11.csv\",\"news_12.csv\"]\n",
    "csv_file_path2=[\"news_23_1.csv\",\"news_23_2.csv\",\"news_23_3.csv\",\n",
    "                 \"news_23_4.csv\",\"news_23_5.csv\",\"news_23_6.csv\"]\n",
    "\n",
    "keyword = [\"台積電\",\"中華電\",\"美時\",\"台泥\"]\n",
    "output_csv_file_path = [\"2330_1.csv\",\"2330_2.csv\",\"2330_3.csv\",\"2330_4.csv\",\"2330_5.csv\",\n",
    "                       \"2330_6.csv\",\"2330_7.csv\",\"2330_8.csv\",\"2330_9.csv\",\"2330_10.csv\",\n",
    "                       \"2330_11.csv\",\"2330_12.csv\",\"2330_23_1.csv\",\"2330_23_2.csv\",\"2330_23_3.csv\",\n",
    "                        \"2330_23_4.csv\",\"2330_23_5.csv\",\"2330_23_6.csv\",\n",
    "                        \"2412_1.csv\",\"2412_2.csv\",\"2412_3.csv\",\"2412_4.csv\",\"2412_5.csv\",\n",
    "                       \"2412_6.csv\",\"2412_7.csv\",\"2412_8.csv\",\"2412_9.csv\",\"2412_10.csv\",\n",
    "                       \"2412_11.csv\",\"2412_12.csv\",\"2412_23_1.csv\",\"2412_23_2.csv\",\"2412_23_3.csv\",\n",
    "                        \"2412_23_4.csv\",\"2412_23_5.csv\",\"2412_23_6.csv\",\n",
    "                       \"1795_1.csv\",\"1795_2.csv\",\"1795_3.csv\",\"1795_4.csv\",\"1795_5.csv\",\n",
    "                       \"1795_6.csv\",\"1795_7.csv\",\"1795_8.csv\",\"1795_9.csv\",\"1795_10.csv\",\n",
    "                       \"1795_11.csv\",\"1795_12.csv\",\"1795_23_1.csv\",\"1795_23_2.csv\",\"1795_23_3.csv\",\n",
    "                        \"1795_23_4.csv\",\"1795_23_5.csv\",\"1795_23_6.csv\"]\n",
    "i=36\n",
    "j=0\n",
    "# 儲存含有關鍵字的資料的列表\n",
    "#如果要個別月要放裡面\n",
    "filtered_data = []\n",
    "\n",
    "for f in csv_file_path:\n",
    "    if(i<18):\n",
    "        j=0\n",
    "    elif (i>=18 and i<36):\n",
    "        j=1\n",
    "    elif(i>=36):\n",
    "        j=2\n",
    "    # 儲存含有關鍵字的資料的列表\n",
    "    #如果要個別月要放裡面\n",
    "    filtered_data = []\n",
    "    # 使用 UTF-8 編碼讀取 CSV 檔案\n",
    "    with open(f'新聞標題(2022~2023)/{f}', mode='r', encoding='utf-8-sig') as csvfile:\n",
    "        reader = csv.DictReader(csvfile)\n",
    "    \n",
    "        for row in reader:\n",
    "            if keyword[j] in row['title']:\n",
    "                filtered_data.append({'date': row['date'], 'title': row['title']})\n",
    "\n",
    "    # 使用 UTF-8 編碼寫入新的 CSV 檔案\n",
    "    #將all改成output_csv_file_path[i]就可以按月輸出.csv\n",
    "    if filtered_data:\n",
    "        with open(f'{keyword[j]}過濾新聞/{output_csv_file_path[i]}', mode='w', encoding='utf-8', newline='') as csvfile:\n",
    "            # 定義欄位\n",
    "            fieldnames = ['date', 'title']\n",
    "\n",
    "            # 將 dictionary 寫入 CSV 檔\n",
    "            writer = csv.DictWriter(csvfile, fieldnames=fieldnames)\n",
    "\n",
    "            # 寫入第一列的欄位名稱\n",
    "            writer.writeheader()\n",
    "\n",
    "            # 寫入篩選後的資料\n",
    "            for data in filtered_data:\n",
    "                writer.writerow({'date': data['date'], 'title': data['title']})\n",
    "            i+=1\n",
    "    else:\n",
    "        print(f'no output {output_csv_file_path[i]}')\n",
    "        i+=1"
   ]
  },
  {
   "cell_type": "code",
   "execution_count": 7,
   "id": "fe0ae5f1",
   "metadata": {},
   "outputs": [
    {
     "name": "stdout",
     "output_type": "stream",
     "text": [
      "no output 1795_23_4.csv\n"
     ]
    }
   ],
   "source": [
    "for f in csv_file_path2:\n",
    "    if(i<18):\n",
    "        j=0\n",
    "    elif (i>=18 and i<36):\n",
    "        j=1\n",
    "    elif(i>=36):\n",
    "        j=2\n",
    "    # 儲存含有關鍵字的資料的列表\n",
    "    #如果要個別月要放裡面\n",
    "    filtered_data = []\n",
    "    # 使用 UTF-8 編碼讀取 CSV 檔案\n",
    "    with open(f'新聞標題(2022~2023)/{f}', mode='r', encoding='utf-8-sig') as csvfile:\n",
    "        reader = csv.DictReader(csvfile)\n",
    "    \n",
    "        for row in reader:\n",
    "            if keyword[j] in row['title']:\n",
    "                filtered_data.append({'date': '2023/'+row['date'], 'title': row['title']})\n",
    "\n",
    "    # 使用 UTF-8 編碼寫入新的 CSV 檔案\n",
    "    #將all改成output_csv_file_path[i]就可以按月輸出.csv\n",
    "    if filtered_data:\n",
    "        with open(f'{keyword[j]}過濾新聞/{output_csv_file_path[i]}', mode='w', encoding='utf-8', newline='') as csvfile:\n",
    "            # 定義欄位\n",
    "            fieldnames = ['date', 'title']\n",
    "\n",
    "            # 將 dictionary 寫入 CSV 檔\n",
    "            writer = csv.DictWriter(csvfile, fieldnames=fieldnames)\n",
    "\n",
    "            # 寫入第一列的欄位名稱\n",
    "            writer.writeheader()\n",
    "\n",
    "            # 寫入篩選後的資料\n",
    "            for data in filtered_data:\n",
    "                writer.writerow({'date': data['date'], 'title': data['title']})\n",
    "            i+=1\n",
    "    else:\n",
    "        print(f'no output {output_csv_file_path[i]}')\n",
    "        i+=1"
   ]
  },
  {
   "cell_type": "code",
   "execution_count": null,
   "id": "a32f21a6",
   "metadata": {},
   "outputs": [],
   "source": []
  }
 ],
 "metadata": {
  "kernelspec": {
   "display_name": "Python 3 (ipykernel)",
   "language": "python",
   "name": "python3"
  },
  "language_info": {
   "codemirror_mode": {
    "name": "ipython",
    "version": 3
   },
   "file_extension": ".py",
   "mimetype": "text/x-python",
   "name": "python",
   "nbconvert_exporter": "python",
   "pygments_lexer": "ipython3",
   "version": "3.11.4"
  }
 },
 "nbformat": 4,
 "nbformat_minor": 5
}
